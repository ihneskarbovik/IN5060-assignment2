{
 "cells": [
  {
   "cell_type": "markdown",
   "metadata": {},
   "source": [
    "# Empirical analysis of the 5G coverage "
   ]
  },
  {
   "cell_type": "markdown",
   "metadata": {},
   "source": [
    "#### Imports"
   ]
  },
  {
   "cell_type": "code",
   "execution_count": 17,
   "metadata": {},
   "outputs": [],
   "source": [
    "import numpy as np\n",
    "import pandas as pd"
   ]
  },
  {
   "cell_type": "markdown",
   "metadata": {},
   "source": [
    "#### Dataset"
   ]
  },
  {
   "cell_type": "code",
   "execution_count": 18,
   "metadata": {},
   "outputs": [],
   "source": [
    "df_4g = pd.read_csv('datasets/4G-Passive-Measurements.csv')\n",
    "df_5g = pd.read_csv('datasets/5G-Passive-Measurements.csv')\n",
    "df_iot = pd.read_csv('datasets/NB-IoT-Passive-Measurements.csv')"
   ]
  },
  {
   "cell_type": "code",
   "execution_count": 19,
   "metadata": {},
   "outputs": [
    {
     "name": "stdout",
     "output_type": "stream",
     "text": [
      "Index(['Unnamed: 0', 'Date', 'Time', 'UTC', 'Latitude', 'Longitude',\n",
      "       'Altitude', 'Speed', 'EARFCN', 'Frequency', 'PCI', 'MNC',\n",
      "       'CellIdentity', 'eNodeB.ID', 'Power', 'SINR', 'RSRP', 'RSRQ',\n",
      "       'scenario', 'cellLongitude', 'cellLatitude', 'cellPosErrorLambda1',\n",
      "       'cellPosErrorLambda2', 'n_CellIdentities', 'distance', 'Band',\n",
      "       'campaign'],\n",
      "      dtype='object')\n",
      "Index(['Unnamed: 0', 'Date', 'Time', 'UTC', 'Latitude', 'Longitude',\n",
      "       'Altitude', 'Speed', 'EARFCN', 'Frequency', 'Band', 'PCI', 'SSBIdx',\n",
      "       'SSS-SINR', 'SSS-RSRP', 'SSS-RSRQ', 'SSS-RePower', 'MNC', 'DM_RS-SINR',\n",
      "       'DM_RS-RSRP', 'DM_RS-RSRQ', 'DM_RS-RePower', 'PBCH-SINR', 'PBCH-RSRP',\n",
      "       'PBCH-RSRQ', 'PBCH-RePower', 'PSS-SINR', 'PSS-RSRP', 'PSS-RSRQ',\n",
      "       'PSS-RePower', 'SS_PBCH-SINR', 'SS_PBCH-RSRP', 'SS_PBCH-RSRQ',\n",
      "       'SS_PBCH-RePower', 'scenario', 'distance_w', 'campaign'],\n",
      "      dtype='object')\n",
      "Index(['Unnamed: 0', 'Date', 'Time', 'UTC', 'Latitude', 'Longitude',\n",
      "       'Altitude', 'Speed', 'EARFCN', 'Frequency', 'PCI', 'MNC',\n",
      "       'CellIdentity', 'eNodeB.ID', 'NSINR-Tx0', 'NSINR-Tx1', 'NRSRP-Tx0',\n",
      "       'NRSRP-Tx1', 'NRSRQ-Tx0', 'NRSRQ-Tx1', 'NSSS-Power', 'scenario',\n",
      "       'cellLongitude', 'cellLatitude', 'cellPosErrorLambda1',\n",
      "       'cellPosErrorLambda2', 'n_CellIdentities', 'distance', 'Band',\n",
      "       'campaign'],\n",
      "      dtype='object')\n"
     ]
    }
   ],
   "source": [
    "print(df_4g.columns)\n",
    "print(df_5g.columns)\n",
    "print(df_iot.columns)"
   ]
  },
  {
   "cell_type": "code",
   "execution_count": 34,
   "metadata": {},
   "outputs": [],
   "source": [
    "df_4g = df_4g[(df_4g['RSRP'] >= -144) & (df_4g['RSRP'] <= -44) &\n",
    "              (df_4g['RSRQ'] >= -19.5) & (df_4g['RSRQ'] <= -3) &\n",
    "              (df_4g['SINR'] >= -20) & (df_4g['SINR'] <= 20)]\n",
    "df_4g = df_4g.fillna(0)"
   ]
  },
  {
   "cell_type": "markdown",
   "metadata": {},
   "source": [
    "### What can we do in the assignment?\n",
    "\n",
    "* Could it be an idea to look at the correlation between signal strength and number of PCIs connected to the unit (4g dataset)?\n",
    "* Alternatively, look into the different kinds of RSRPs in the 5g dataset and do a kind of time analysis?\n",
    "* Or something completely different? I don't really know what could be possible and is easy enough to do in 1,5 weeks lol"
   ]
  },
  {
   "cell_type": "code",
   "execution_count": 35,
   "metadata": {},
   "outputs": [
    {
     "name": "stdout",
     "output_type": "stream",
     "text": [
      "Pearson correlation between RSRP and n_CellIdentities:  0.09203430189475155\n",
      "Pearson correlation between SINR and n_CellIdentities:  0.024756719446048254\n",
      "Pearson correlation between RSRQ and n_CellIdentities:  -0.028202035349756335\n",
      "Pearson correlation between RSRP and distance:  -0.3733329950934143\n",
      "Pearson correlation between RSRP and speed:  -0.02491366003921812\n"
     ]
    }
   ],
   "source": [
    "def Pearson_correlation(X,Y):\n",
    "    if len(X)==len(Y):\n",
    "        Sum_xy = sum((X-X.mean())*(Y-Y.mean()))\n",
    "        Sum_x_squared = sum((X-X.mean())**2)\n",
    "        Sum_y_squared = sum((Y-Y.mean())**2)       \n",
    "        corr = Sum_xy / np.sqrt(Sum_x_squared * Sum_y_squared)\n",
    "    return corr\n",
    "\n",
    "print(f'Pearson correlation between RSRP and n_CellIdentities: ', Pearson_correlation(df_4g['RSRP'], df_4g['n_CellIdentities']))\n",
    "print(f'Pearson correlation between SINR and n_CellIdentities: ', Pearson_correlation(df_4g['SINR'], df_4g['n_CellIdentities']))\n",
    "print(f'Pearson correlation between RSRQ and n_CellIdentities: ', Pearson_correlation(df_4g['RSRQ'], df_4g['n_CellIdentities']))\n",
    "print(f'Pearson correlation between RSRP and distance: ', Pearson_correlation(df_4g['RSRP'], df_4g['distance']))\n",
    "print(f'Pearson correlation between RSRP and speed: ', Pearson_correlation(df_4g['RSRP'], df_4g['Speed']))\n"
   ]
  }
 ],
 "metadata": {
  "kernelspec": {
   "display_name": "Python 3",
   "language": "python",
   "name": "python3"
  },
  "language_info": {
   "codemirror_mode": {
    "name": "ipython",
    "version": 3
   },
   "file_extension": ".py",
   "mimetype": "text/x-python",
   "name": "python",
   "nbconvert_exporter": "python",
   "pygments_lexer": "ipython3",
   "version": "3.9.6"
  }
 },
 "nbformat": 4,
 "nbformat_minor": 2
}
