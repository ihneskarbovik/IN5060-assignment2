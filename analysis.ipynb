{
 "cells": [
  {
   "cell_type": "markdown",
   "metadata": {},
   "source": [
    "# Empirical analysis of the 5G coverage "
   ]
  },
  {
   "cell_type": "markdown",
   "metadata": {},
   "source": [
    "#### Imports"
   ]
  },
  {
   "cell_type": "code",
   "execution_count": 1,
   "metadata": {},
   "outputs": [],
   "source": [
    "import numpy as np\n",
    "import pandas as pd"
   ]
  },
  {
   "cell_type": "markdown",
   "metadata": {},
   "source": [
    "#### Dataset"
   ]
  },
  {
   "cell_type": "code",
   "execution_count": 10,
   "metadata": {},
   "outputs": [],
   "source": [
    "df_4g = pd.read_csv('datasets/4G-Passive-Measurements.csv')\n",
    "df_5g = pd.read_csv('datasets/5G-Passive-Measurements.csv')\n",
    "df_iot = pd.read_csv('datasets/NB-IoT-Passive-Measurements.csv')"
   ]
  },
  {
   "cell_type": "code",
   "execution_count": 14,
   "metadata": {},
   "outputs": [
    {
     "name": "stdout",
     "output_type": "stream",
     "text": [
      "Index(['Unnamed: 0', 'Date', 'Time', 'UTC', 'Latitude', 'Longitude',\n",
      "       'Altitude', 'Speed', 'EARFCN', 'Frequency', 'PCI', 'MNC',\n",
      "       'CellIdentity', 'eNodeB.ID', 'Power', 'SINR', 'RSRP', 'RSRQ',\n",
      "       'scenario', 'cellLongitude', 'cellLatitude', 'cellPosErrorLambda1',\n",
      "       'cellPosErrorLambda2', 'n_CellIdentities', 'distance', 'Band',\n",
      "       'campaign'],\n",
      "      dtype='object')\n",
      "Index(['Unnamed: 0', 'Date', 'Time', 'UTC', 'Latitude', 'Longitude',\n",
      "       'Altitude', 'Speed', 'EARFCN', 'Frequency', 'Band', 'PCI', 'SSBIdx',\n",
      "       'SSS-SINR', 'SSS-RSRP', 'SSS-RSRQ', 'SSS-RePower', 'MNC', 'DM_RS-SINR',\n",
      "       'DM_RS-RSRP', 'DM_RS-RSRQ', 'DM_RS-RePower', 'PBCH-SINR', 'PBCH-RSRP',\n",
      "       'PBCH-RSRQ', 'PBCH-RePower', 'PSS-SINR', 'PSS-RSRP', 'PSS-RSRQ',\n",
      "       'PSS-RePower', 'SS_PBCH-SINR', 'SS_PBCH-RSRP', 'SS_PBCH-RSRQ',\n",
      "       'SS_PBCH-RePower', 'scenario', 'distance_w', 'campaign'],\n",
      "      dtype='object')\n",
      "Index(['Unnamed: 0', 'Date', 'Time', 'UTC', 'Latitude', 'Longitude',\n",
      "       'Altitude', 'Speed', 'EARFCN', 'Frequency', 'PCI', 'MNC',\n",
      "       'CellIdentity', 'eNodeB.ID', 'NSINR-Tx0', 'NSINR-Tx1', 'NRSRP-Tx0',\n",
      "       'NRSRP-Tx1', 'NRSRQ-Tx0', 'NRSRQ-Tx1', 'NSSS-Power', 'scenario',\n",
      "       'cellLongitude', 'cellLatitude', 'cellPosErrorLambda1',\n",
      "       'cellPosErrorLambda2', 'n_CellIdentities', 'distance', 'Band',\n",
      "       'campaign'],\n",
      "      dtype='object')\n"
     ]
    }
   ],
   "source": [
    "print(df_4g.columns)\n",
    "print(df_5g.columns)\n",
    "print(df_iot.columns)"
   ]
  },
  {
   "cell_type": "code",
   "execution_count": 16,
   "metadata": {},
   "outputs": [],
   "source": [
    "df_4g = df_4g[(df_4g['RSRP'] >= -144) & (df_4g['RSRP'] <= -44) &\n",
    "              (df_4g['SINR'] >= -19.5) & (df_4g['SINR'] <= -3) &\n",
    "              (df_4g['RSRQ'] >= -20) & (df_4g['RSRQ'] <= 20)]"
   ]
  }
 ],
 "metadata": {
  "kernelspec": {
   "display_name": "Python 3",
   "language": "python",
   "name": "python3"
  },
  "language_info": {
   "codemirror_mode": {
    "name": "ipython",
    "version": 3
   },
   "file_extension": ".py",
   "mimetype": "text/x-python",
   "name": "python",
   "nbconvert_exporter": "python",
   "pygments_lexer": "ipython3",
   "version": "3.9.6"
  }
 },
 "nbformat": 4,
 "nbformat_minor": 2
}
